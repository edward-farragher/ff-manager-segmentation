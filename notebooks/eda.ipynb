{
 "cells": [
  {
   "cell_type": "code",
   "execution_count": 1,
   "metadata": {},
   "outputs": [],
   "source": [
    "# Change directory to level up to import functions\n",
    "import os\n",
    "os.chdir('..')"
   ]
  },
  {
   "cell_type": "code",
   "execution_count": 2,
   "metadata": {},
   "outputs": [],
   "source": [
    "import pandas as pd"
   ]
  },
  {
   "cell_type": "code",
   "execution_count": 3,
   "metadata": {},
   "outputs": [],
   "source": [
    "distribution_table_numeric = pd.read_csv('data/variable_distributions/numeric_columns.csv')\n",
    "distribution_table_categorical = pd.read_csv('data/variable_distributions/categorical_columns.csv')"
   ]
  },
  {
   "cell_type": "code",
   "execution_count": 4,
   "metadata": {},
   "outputs": [],
   "source": [
    "team_id = ''"
   ]
  },
  {
   "cell_type": "code",
   "execution_count": 5,
   "metadata": {},
   "outputs": [],
   "source": [
    "from src.data_prep.all_team_data import get_all_team_data \n",
    "from src.app_tools.yaml_loader import load_yaml_file"
   ]
  },
  {
   "cell_type": "code",
   "execution_count": 6,
   "metadata": {},
   "outputs": [],
   "source": [
    "team_data = get_all_team_data(team_id)\n"
   ]
  },
  {
   "cell_type": "code",
   "execution_count": 7,
   "metadata": {},
   "outputs": [],
   "source": [
    "# Get null imputing values\n",
    "yaml_file_path = \"conf/impute_nulls.yaml\"\n",
    "impute_nulls = load_yaml_file(yaml_file_path)\n",
    "\n",
    "# Update team_data with impute_nulls values for None entries\n",
    "for key, value in team_data.items():\n",
    "    if value is None and key in impute_nulls:\n",
    "        team_data[key] = impute_nulls[key]"
   ]
  },
  {
   "cell_type": "code",
   "execution_count": 8,
   "metadata": {},
   "outputs": [],
   "source": [
    "feature_name = 'min_rank_history'"
   ]
  },
  {
   "cell_type": "code",
   "execution_count": 9,
   "metadata": {},
   "outputs": [
    {
     "data": {
      "text/plain": [
       "46798"
      ]
     },
     "execution_count": 9,
     "metadata": {},
     "output_type": "execute_result"
    }
   ],
   "source": [
    "value = team_data[feature_name]"
   ]
  },
  {
   "cell_type": "code",
   "execution_count": 10,
   "metadata": {},
   "outputs": [],
   "source": [
    "# Filter rows where 'value' is greater than the threshold\n",
    "filtered_df = distribution_table_numeric[(distribution_table_numeric['column_name']==feature_name) & (distribution_table_numeric['value']>=value)]\n",
    "\n",
    "# Find the minimum 'percentage_below' from the filtered rows\n",
    "percentage = filtered_df['percentage_below'].min()"
   ]
  },
  {
   "cell_type": "code",
   "execution_count": 14,
   "metadata": {},
   "outputs": [],
   "source": [
    "feature_summary = {\n",
    "    'feature_name' : feature_name,\n",
    "    'percentage' : percentage,\n",
    "    'direction' : 'top',\n",
    "    'sentiment' : 'positive'\n",
    "}"
   ]
  },
  {
   "cell_type": "code",
   "execution_count": 16,
   "metadata": {},
   "outputs": [],
   "source": [
    "all_features_summary = []\n",
    "all_features_summary.append(feature_summary)"
   ]
  },
  {
   "cell_type": "code",
   "execution_count": 17,
   "metadata": {},
   "outputs": [
    {
     "data": {
      "text/plain": [
       "[{'feature_name': 'min_rank_history',\n",
       "  'percentage': 20.69,\n",
       "  'direction': 'top',\n",
       "  'sentiment': 'positive'}]"
      ]
     },
     "execution_count": 17,
     "metadata": {},
     "output_type": "execute_result"
    }
   ],
   "source": [
    "all_features_summary"
   ]
  }
 ],
 "metadata": {
  "kernelspec": {
   "display_name": "Python 3",
   "language": "python",
   "name": "python3"
  },
  "language_info": {
   "codemirror_mode": {
    "name": "ipython",
    "version": 3
   },
   "file_extension": ".py",
   "mimetype": "text/x-python",
   "name": "python",
   "nbconvert_exporter": "python",
   "pygments_lexer": "ipython3",
   "version": "3.11.7"
  }
 },
 "nbformat": 4,
 "nbformat_minor": 2
}
