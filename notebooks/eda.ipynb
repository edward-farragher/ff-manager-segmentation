{
 "cells": [
  {
   "cell_type": "code",
   "execution_count": null,
   "metadata": {},
   "outputs": [],
   "source": [
    "import requests\n",
    "import json\n",
    "import os\n",
    "import pandas as pd\n",
    "from datetime import datetime\n",
    "import concurrent.futures"
   ]
  },
  {
   "cell_type": "code",
   "execution_count": null,
   "metadata": {},
   "outputs": [],
   "source": [
    "team_id = ''"
   ]
  },
  {
   "cell_type": "code",
   "execution_count": null,
   "metadata": {},
   "outputs": [],
   "source": [
    "def fetch_url(url):\n",
    "    \"\"\"\n",
    "    Fetches data from a given URL using the requests library.\n",
    "\n",
    "    Parameters:\n",
    "    ----------\n",
    "    url : str\n",
    "        The URL to fetch data from.\n",
    "\n",
    "    Returns:\n",
    "    ----------\n",
    "    data : dict or None\n",
    "        The JSON data retrieved from the URL if the request is successful, otherwise None.\n",
    "    \"\"\"\n",
    "    response = requests.get(url)\n",
    "    if response.ok:\n",
    "        data = response.json()\n",
    "        return data\n",
    "    else:\n",
    "        return None\n",
    "\n",
    "\n",
    "def fetch_urls_concurrently(urls):\n",
    "    \"\"\"\n",
    "    Fetches multiple URLs concurrently using ThreadPoolExecutor.\n",
    "\n",
    "    Parameters:\n",
    "    ----------\n",
    "    urls : list\n",
    "        A list of URLs to fetch.\n",
    "\n",
    "    Returns:\n",
    "    ----------\n",
    "    results : list:\n",
    "        A list containing the fetched results from the URLs.\n",
    "    \"\"\"\n",
    "    with concurrent.futures.ThreadPoolExecutor() as executor:\n",
    "        # Submit tasks to the executor\n",
    "        futures = [executor.submit(fetch_url, url) for url in urls]\n",
    "\n",
    "        # Retrieve results as they become available\n",
    "        results = []\n",
    "        for future in concurrent.futures.as_completed(futures):\n",
    "            result = future.result()\n",
    "            if result:\n",
    "                results.append(result)\n",
    "    return results"
   ]
  },
  {
   "cell_type": "code",
   "execution_count": null,
   "metadata": {},
   "outputs": [],
   "source": [
    "### Bootstrap data\n",
    "url = 'https://fantasy.premierleague.com/api/bootstrap-static/'\n",
    "bootstrap_data = fetch_url(url)"
   ]
  },
  {
   "cell_type": "code",
   "execution_count": null,
   "metadata": {},
   "outputs": [],
   "source": [
    "bootstrap_data.keys()"
   ]
  },
  {
   "cell_type": "code",
   "execution_count": null,
   "metadata": {},
   "outputs": [],
   "source": [
    "### Team data\n",
    "team_url = f'https://fantasy.premierleague.com/api/entry/{team_id}/'\n",
    "data = fetch_url(url)"
   ]
  },
  {
   "cell_type": "code",
   "execution_count": null,
   "metadata": {},
   "outputs": [],
   "source": [
    "team_summary_data = {}"
   ]
  },
  {
   "cell_type": "code",
   "execution_count": null,
   "metadata": {},
   "outputs": [],
   "source": [
    "team_summary_data['id'] = data['id']\n",
    "team_summary_data['name'] = data['name']\n",
    "team_summary_data['player_first_name'] = data['player_first_name']\n",
    "team_summary_data['player_last_name'] = data['player_last_name']\n",
    "team_summary_data['player_region_iso_code_long'] = data['player_region_iso_code_long']\n",
    "team_summary_data['years_active'] = data['years_active']\n",
    "team_summary_data['joined_time'] = data['joined_time']\n",
    "team_summary_data['classic_leagues_competed_in'] = len(data['leagues']['classic'])\n",
    "team_summary_data['h2h_leagues_competed_in'] = len(data['leagues']['h2h'])\n",
    "team_summary_data['last_deadline_bank'] = data['last_deadline_bank']\n",
    "team_summary_data['last_deadline_value'] = data['last_deadline_value']\n",
    "team_summary_data['last_deadline_total_transfers'] = data['last_deadline_total_transfers']"
   ]
  },
  {
   "cell_type": "code",
   "execution_count": null,
   "metadata": {},
   "outputs": [],
   "source": [
    "### Transfers"
   ]
  },
  {
   "cell_type": "code",
   "execution_count": null,
   "metadata": {},
   "outputs": [],
   "source": [
    "transfers_url = f'https://fantasy.premierleague.com/api/entry/{team_id}/transfers/'\n",
    "transfers_data = fetch_url(transfers_url)"
   ]
  },
  {
   "cell_type": "code",
   "execution_count": null,
   "metadata": {},
   "outputs": [],
   "source": [
    "### Game week\n",
    "gw_urls = []\n",
    "for gw in range(1,39):\n",
    "    gw_url = f'https://fantasy.premierleague.com/api/entry/{team_id}/event/{gw}/picks/'\n",
    "    gw_urls = gw_urls + [gw_url]\n",
    "\n"
   ]
  },
  {
   "cell_type": "code",
   "execution_count": null,
   "metadata": {},
   "outputs": [],
   "source": [
    "gw_data = fetch_urls_concurrently(gw_urls)"
   ]
  },
  {
   "cell_type": "code",
   "execution_count": null,
   "metadata": {},
   "outputs": [],
   "source": [
    "### History\n",
    "url = f'https://fantasy.premierleague.com/api/entry/{team_id}/history//'\n",
    "data = fetch_url(url)"
   ]
  },
  {
   "cell_type": "code",
   "execution_count": null,
   "metadata": {},
   "outputs": [],
   "source": [
    "### History\n",
    "history_url = f'https://fantasy.premierleague.com/api/entry/{team_id}/history/'\n",
    "history_data = fetch_url(url)"
   ]
  }
 ],
 "metadata": {
  "kernelspec": {
   "display_name": "Python 3",
   "language": "python",
   "name": "python3"
  },
  "language_info": {
   "codemirror_mode": {
    "name": "ipython",
    "version": 3
   },
   "file_extension": ".py",
   "mimetype": "text/x-python",
   "name": "python",
   "nbconvert_exporter": "python",
   "pygments_lexer": "ipython3",
   "version": "3.11.7"
  }
 },
 "nbformat": 4,
 "nbformat_minor": 2
}
