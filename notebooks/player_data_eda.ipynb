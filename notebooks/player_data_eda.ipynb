{
 "cells": [
  {
   "cell_type": "code",
   "execution_count": 217,
   "metadata": {},
   "outputs": [],
   "source": [
    "import requests\n",
    "import json\n",
    "import os\n",
    "import pandas as pd\n",
    "from datetime import datetime\n",
    "import concurrent.futures\n",
    "import random\n"
   ]
  },
  {
   "cell_type": "code",
   "execution_count": 218,
   "metadata": {},
   "outputs": [],
   "source": [
    "# Haaland index: 532"
   ]
  },
  {
   "cell_type": "code",
   "execution_count": 219,
   "metadata": {},
   "outputs": [],
   "source": [
    "def fetch_url(url):\n",
    "    \"\"\"\n",
    "    Fetches data from a given URL using the requests library.\n",
    "\n",
    "    Parameters:\n",
    "    ----------\n",
    "    url : str\n",
    "        The URL to fetch data from.\n",
    "\n",
    "    Returns:\n",
    "    ----------\n",
    "    data : dict or None\n",
    "        The JSON data retrieved from the URL if the request is successful, otherwise None.\n",
    "    \"\"\"\n",
    "    response = requests.get(url)\n",
    "    if response.ok:\n",
    "        data = response.json()\n",
    "        return data\n",
    "    else:\n",
    "        return None"
   ]
  },
  {
   "cell_type": "code",
   "execution_count": 220,
   "metadata": {},
   "outputs": [],
   "source": [
    "def fetch_urls_concurrently(urls):\n",
    "    \"\"\"\n",
    "    Fetches multiple URLs concurrently using ThreadPoolExecutor.\n",
    "\n",
    "    Parameters:\n",
    "    ----------\n",
    "    urls : list\n",
    "        A list of URLs to fetch.\n",
    "\n",
    "    Returns:\n",
    "    ----------\n",
    "    results : list:\n",
    "        A list containing the fetched results from the URLs.\n",
    "    \"\"\"\n",
    "    with concurrent.futures.ThreadPoolExecutor() as executor:\n",
    "        # Submit tasks to the executor\n",
    "        futures = [executor.submit(fetch_url, url) for url in urls]\n",
    "\n",
    "        # Retrieve results as they become available\n",
    "        results = []\n",
    "        for future in concurrent.futures.as_completed(futures):\n",
    "            result = future.result()\n",
    "            if result:\n",
    "                results.append(result)\n",
    "    return results"
   ]
  },
  {
   "cell_type": "code",
   "execution_count": 221,
   "metadata": {},
   "outputs": [],
   "source": [
    "### Bootstrap data\n",
    "url = 'https://fantasy.premierleague.com/api/bootstrap-static/'\n",
    "bootstrap_data = fetch_url(url)"
   ]
  },
  {
   "cell_type": "code",
   "execution_count": 222,
   "metadata": {},
   "outputs": [],
   "source": [
    "### Get player summary data\n",
    "# Reformat team data\n",
    "team_id_name = {str(team['id']): team['name'] for team in bootstrap_data['teams']}\n",
    "\n",
    "# Reformat position data\n",
    "position_id_name = {str(team['id']): team['plural_name_short'] for team in bootstrap_data['element_types']}\n",
    "\n",
    "# Append team name and position name to player data\n",
    "for player in bootstrap_data['elements']:\n",
    "    team_id = str(player['team'])\n",
    "    player['team_name']=team_id_name[team_id]\n",
    "\n",
    "    position_id = str(player['element_type'])\n",
    "    player['position']=position_id_name[position_id]\n",
    "\n",
    "\n",
    "required_keys = ['first_name',\n",
    "                 'second_name',\n",
    "                 'id',\n",
    "                 'dreamteam_count',\n",
    "                 'now_cost',\n",
    "                 'now_cost_rank',\n",
    "                 'team_name',\n",
    "                 'position',\n",
    "                 'total_points',\n",
    "                 'transfers_in',\n",
    "                 'transfers_out',\n",
    "                 'value_season',\n",
    "                 'minutes',\n",
    "                 'goals_scored',\n",
    "                 'assists',\n",
    "                 'clean_sheets',\n",
    "                 'goals_conceded',\n",
    "                 'own_goals',\n",
    "                 'penalties_saved',\n",
    "                 'penalties_missed',\n",
    "                 'yellow_cards',\n",
    "                 'red_cards',\n",
    "                 'saves',\n",
    "                 'bonus',\n",
    "                 'bps',\n",
    "                 'starts',\n",
    "                 'saves',\n",
    "                 'points_per_game',\n",
    "                 'points_per_game_rank',\n",
    "                 'points_per_game_rank_type',\n",
    "                 'selected_by_percent',\n",
    "                 'selected_rank',\n",
    "                 'selected_rank_type',\n",
    "                 'starts_per_90',\n",
    "                 'clean_sheets_per_90',\n",
    "                 'selected_rank_type',\n",
    "                 ]\n",
    "\n",
    "player_data_summary = [{k: player[k] for k in required_keys if k in player} for player in bootstrap_data['elements']] \n",
    "\n",
    "player_data_summary_df = pd.DataFrame(player_data_summary)"
   ]
  },
  {
   "cell_type": "code",
   "execution_count": 223,
   "metadata": {},
   "outputs": [],
   "source": [
    "### Get player stats"
   ]
  },
  {
   "cell_type": "code",
   "execution_count": 224,
   "metadata": {},
   "outputs": [],
   "source": [
    "# Get list of all player ids\n",
    "player_id_list = []\n",
    "for element in bootstrap_data['elements']:\n",
    "    player_id = element['id']\n",
    "    player_id_list = player_id_list + [player_id]\n"
   ]
  },
  {
   "cell_type": "code",
   "execution_count": 225,
   "metadata": {},
   "outputs": [],
   "source": [
    "# Get random sample of players\n",
    "player_id_list = random.sample(player_id_list, 10)"
   ]
  },
  {
   "cell_type": "code",
   "execution_count": 226,
   "metadata": {},
   "outputs": [],
   "source": [
    "# Get URLs\n",
    "player_id_urls = []\n",
    "for player_id in player_id_list:\n",
    "    player_id_url = f'https://fantasy.premierleague.com/api/element-summary/{player_id}/'\n",
    "    player_id_urls = player_id_urls + [player_id_url]\n"
   ]
  },
  {
   "cell_type": "code",
   "execution_count": 227,
   "metadata": {},
   "outputs": [],
   "source": [
    "# Get player data\n",
    "players_id_data = fetch_urls_concurrently(player_id_urls)"
   ]
  },
  {
   "cell_type": "code",
   "execution_count": 228,
   "metadata": {},
   "outputs": [],
   "source": [
    "player_weekly_data = [d[\"history\"] for d in players_id_data]\n"
   ]
  },
  {
   "cell_type": "code",
   "execution_count": 229,
   "metadata": {},
   "outputs": [],
   "source": [
    "# Reshape to pandas dataframe\n",
    "player_list = []\n",
    "week_list = []\n",
    "data_dict_list = []\n",
    "\n",
    "# Iterate over each list (representing a player's weeks)\n",
    "for player_weeks in player_weekly_data:\n",
    "    for week_data in player_weeks:\n",
    "        player_list.append(week_data[\"element\"])\n",
    "        week_list.append(week_data[\"round\"])\n",
    "        data_dict_list.append(week_data)\n",
    "\n",
    "# Create a DataFrame from the lists\n",
    "player_weekly_data_df = pd.DataFrame(data_dict_list)\n",
    "\n",
    "# Add player and week columns to the DataFrame\n",
    "player_weekly_data_df.insert(0, 'player_id', player_list)\n",
    "player_weekly_data_df.insert(1, 'gameweek', week_list)"
   ]
  },
  {
   "cell_type": "code",
   "execution_count": 230,
   "metadata": {},
   "outputs": [],
   "source": [
    "# Join to player summary table to see who players are\n",
    "columns_to_join = [\"id\",\"first_name\", \"second_name\",\"team_name\",\"position\"]\n",
    "\n",
    "player_weekly_data_df = pd.merge(player_weekly_data_df, player_data_summary_df[columns_to_join], left_on='player_id', right_on='id',how='left')\n",
    "\n",
    "# Reduce colums\n",
    "columns_to_select = [\"player_id\",\"gameweek\",\"first_name\", \"second_name\",\"team_name\",\"position\",\n",
    "                     \"total_points\",\n",
    "                     \"minutes\",\n",
    "                     \"goals_scored\",\n",
    "                     \"assists\",\n",
    "                     \"clean_sheets\",\n",
    "                     \"own_goals\",\n",
    "                     \"penalties_saved\",\n",
    "                     \"penalties_missed\",\n",
    "                     \"yellow_cards\",\n",
    "                     \"red_cards\",\n",
    "                     \"saves\",\n",
    "                     \"bonus\",\n",
    "                     \"starts\",\n",
    "                     \"value\",\n",
    "                     \"penalties_missed\",\n",
    "                     \"transfers_balance\",\n",
    "                     \"selected\",\n",
    "                     \"transfers_in\",\n",
    "                     \"transfers_out\"\n",
    "                     ]\n",
    "\n",
    "player_weekly_data_df=player_weekly_data_df[columns_to_select]"
   ]
  },
  {
   "cell_type": "code",
   "execution_count": null,
   "metadata": {},
   "outputs": [],
   "source": [
    "# Fix double gameweeks by grouping by gameweek and aggregating other columns\n",
    "# Include flag to say DGW"
   ]
  },
  {
   "cell_type": "code",
   "execution_count": 231,
   "metadata": {},
   "outputs": [],
   "source": [
    "# Save to json/csv in data"
   ]
  }
 ],
 "metadata": {
  "kernelspec": {
   "display_name": "Python 3",
   "language": "python",
   "name": "python3"
  },
  "language_info": {
   "codemirror_mode": {
    "name": "ipython",
    "version": 3
   },
   "file_extension": ".py",
   "mimetype": "text/x-python",
   "name": "python",
   "nbconvert_exporter": "python",
   "pygments_lexer": "ipython3",
   "version": "3.11.7"
  }
 },
 "nbformat": 4,
 "nbformat_minor": 2
}
